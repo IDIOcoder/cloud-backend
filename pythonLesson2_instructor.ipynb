{
 "cells": [
  {
   "cell_type": "code",
   "execution_count": 1,
   "id": "f767264b-34ef-430e-9704-a83301e7c5f5",
   "metadata": {},
   "outputs": [],
   "source": [
    "import numpy as np"
   ]
  },
  {
   "cell_type": "code",
   "execution_count": 2,
   "id": "2ce7ede8-5108-4796-9ef4-bc9f72ee9e2b",
   "metadata": {},
   "outputs": [],
   "source": [
    "import random"
   ]
  },
  {
   "cell_type": "code",
   "execution_count": 3,
   "id": "7e5a7ed9-dd8e-441c-b157-eec1553eca07",
   "metadata": {},
   "outputs": [
    {
     "data": {
      "text/plain": [
       "0.5177969378482996"
      ]
     },
     "execution_count": 3,
     "metadata": {},
     "output_type": "execute_result"
    }
   ],
   "source": [
    "random.random()"
   ]
  },
  {
   "cell_type": "code",
   "execution_count": 6,
   "id": "c9c73025-9817-4012-bfcd-9f3893e475b7",
   "metadata": {},
   "outputs": [
    {
     "name": "stdout",
     "output_type": "stream",
     "text": [
      "1\n",
      "2\n",
      "2\n",
      "2\n",
      "2\n",
      "1\n",
      "1\n",
      "2\n",
      "1\n",
      "1\n"
     ]
    }
   ],
   "source": [
    "for _ in range(10):\n",
    "    print(random.randrange(1,3))"
   ]
  },
  {
   "cell_type": "code",
   "execution_count": 7,
   "id": "8dfe6799-8ff7-4527-92e7-2f7020742309",
   "metadata": {},
   "outputs": [
    {
     "name": "stdout",
     "output_type": "stream",
     "text": [
      "3\n",
      "3\n",
      "3\n",
      "3\n",
      "3\n",
      "2\n",
      "1\n",
      "3\n",
      "3\n",
      "2\n"
     ]
    }
   ],
   "source": [
    "for _ in range(10):\n",
    "    print(random.randint(1,3))"
   ]
  },
  {
   "cell_type": "code",
   "execution_count": 8,
   "id": "6b69da5e-ff19-444f-885b-e685789ccc34",
   "metadata": {},
   "outputs": [],
   "source": [
    "from datetime import datetime"
   ]
  },
  {
   "cell_type": "code",
   "execution_count": 9,
   "id": "5cf651ef-22f2-438c-91bb-b2ee89dcaaf4",
   "metadata": {},
   "outputs": [
    {
     "name": "stdout",
     "output_type": "stream",
     "text": [
      "2024-03-05 09:22:33.401908\n"
     ]
    }
   ],
   "source": [
    "today = datetime.now()\n",
    "print(today)"
   ]
  },
  {
   "cell_type": "code",
   "execution_count": 10,
   "id": "3881f7b5-b41e-4cd7-81b4-c139f031d9b7",
   "metadata": {},
   "outputs": [
    {
     "data": {
      "text/plain": [
       "datetime.datetime(2024, 3, 5, 9, 22, 33, 401908)"
      ]
     },
     "execution_count": 10,
     "metadata": {},
     "output_type": "execute_result"
    }
   ],
   "source": [
    "today"
   ]
  },
  {
   "cell_type": "code",
   "execution_count": 11,
   "id": "468c35fb-8912-4878-85c4-0f8d6ad29544",
   "metadata": {},
   "outputs": [
    {
     "data": {
      "text/plain": [
       "'2024/03/05 09:22:33'"
      ]
     },
     "execution_count": 11,
     "metadata": {},
     "output_type": "execute_result"
    }
   ],
   "source": [
    "datetime.strftime(today,'%Y/%m/%d %H:%M:%S')"
   ]
  },
  {
   "cell_type": "code",
   "execution_count": 12,
   "id": "adade81f-b2a3-41b2-b1ae-f4773f49c6c3",
   "metadata": {},
   "outputs": [],
   "source": [
    "dt = datetime(2024,2,1)"
   ]
  },
  {
   "cell_type": "code",
   "execution_count": 13,
   "id": "e558d3b5-b67a-48f7-8541-8b546d430143",
   "metadata": {},
   "outputs": [
    {
     "name": "stdout",
     "output_type": "stream",
     "text": [
      "2024\n",
      "2\n",
      "1\n"
     ]
    }
   ],
   "source": [
    "print(dt.year)\n",
    "print(dt.month)\n",
    "print(dt.day)"
   ]
  },
  {
   "cell_type": "code",
   "execution_count": 15,
   "id": "2cf77e9a-0ec3-4137-a530-1d97aee091e9",
   "metadata": {},
   "outputs": [
    {
     "name": "stdout",
     "output_type": "stream",
     "text": [
      "2024-02-01\n"
     ]
    }
   ],
   "source": [
    "print(dt.date())"
   ]
  },
  {
   "cell_type": "code",
   "execution_count": 16,
   "id": "8e482330-5fe2-4c1b-a72e-b0e974d0e243",
   "metadata": {},
   "outputs": [
    {
     "data": {
      "text/plain": [
       "3"
      ]
     },
     "execution_count": 16,
     "metadata": {},
     "output_type": "execute_result"
    }
   ],
   "source": [
    "dt.weekday()"
   ]
  },
  {
   "cell_type": "code",
   "execution_count": 17,
   "id": "3051aedf-e1d5-4729-91bb-779a50ee40ac",
   "metadata": {},
   "outputs": [],
   "source": [
    "import calendar"
   ]
  },
  {
   "cell_type": "code",
   "execution_count": 21,
   "id": "6396357a-a02a-4c08-b89c-8b2ba8f8539c",
   "metadata": {},
   "outputs": [
    {
     "data": {
      "text/plain": [
       "'Thursday'"
      ]
     },
     "execution_count": 21,
     "metadata": {},
     "output_type": "execute_result"
    }
   ],
   "source": [
    "calendar.day_name[3]"
   ]
  },
  {
   "cell_type": "code",
   "execution_count": 22,
   "id": "4d6eabe6-5406-4905-9764-3a5ea3f12d4a",
   "metadata": {},
   "outputs": [
    {
     "name": "stdout",
     "output_type": "stream",
     "text": [
      "(3, 29)\n"
     ]
    }
   ],
   "source": [
    "monthInfo = calendar.monthrange(2024,2)\n",
    "print(monthInfo)"
   ]
  },
  {
   "cell_type": "code",
   "execution_count": 23,
   "id": "cfbdb97e-2392-4b4b-a3fa-d1979f7f2baa",
   "metadata": {},
   "outputs": [],
   "source": [
    "import numpy as np"
   ]
  },
  {
   "cell_type": "code",
   "execution_count": 24,
   "id": "4fa9dd19-bc4e-418c-abd4-f506c9e1a45e",
   "metadata": {},
   "outputs": [],
   "source": [
    "import pandas as pd"
   ]
  },
  {
   "cell_type": "code",
   "execution_count": 25,
   "id": "5e9cf18c-a870-4b2b-a23b-0e20caf56063",
   "metadata": {},
   "outputs": [],
   "source": [
    "a = np.array([1,2,3,4])\n",
    "b = np.array([[1,2,3],[4,5,6]])"
   ]
  },
  {
   "cell_type": "code",
   "execution_count": 28,
   "id": "c86a5c9d-ba08-44b7-8057-53b03c2e3be2",
   "metadata": {},
   "outputs": [
    {
     "name": "stdout",
     "output_type": "stream",
     "text": [
      "(4,)\n",
      "(2, 3)\n",
      "[1 2 3]\n"
     ]
    }
   ],
   "source": [
    "print(a.shape)\n",
    "print(b.shape)\n",
    "print(b[0])"
   ]
  },
  {
   "cell_type": "code",
   "execution_count": 33,
   "id": "1ea0d383-6502-4de0-836d-eae3c8ba18e1",
   "metadata": {},
   "outputs": [],
   "source": [
    "gisa = pd.read_csv('Abc1115.csv',header=None)"
   ]
  },
  {
   "cell_type": "code",
   "execution_count": 34,
   "id": "0e794269-7dea-45e8-8ed0-d0bba124461a",
   "metadata": {},
   "outputs": [
    {
     "data": {
      "text/plain": [
       "Index([0, 1, 2, 3, 4, 5, 6, 7, 8, 9, 10], dtype='int64')"
      ]
     },
     "execution_count": 34,
     "metadata": {},
     "output_type": "execute_result"
    }
   ],
   "source": [
    "gisa.columns"
   ]
  },
  {
   "cell_type": "code",
   "execution_count": 35,
   "id": "a7705666-ec62-4b20-8fb8-43c9e6d128e1",
   "metadata": {},
   "outputs": [
    {
     "data": {
      "text/plain": [
       "(1000, 11)"
      ]
     },
     "execution_count": 35,
     "metadata": {},
     "output_type": "execute_result"
    }
   ],
   "source": [
    "gisa.shape"
   ]
  },
  {
   "cell_type": "code",
   "execution_count": 37,
   "id": "e9dfd8bf-bd2c-4c54-8f6b-74bb30ae54e5",
   "metadata": {},
   "outputs": [
    {
     "data": {
      "text/html": [
       "<div>\n",
       "<style scoped>\n",
       "    .dataframe tbody tr th:only-of-type {\n",
       "        vertical-align: middle;\n",
       "    }\n",
       "\n",
       "    .dataframe tbody tr th {\n",
       "        vertical-align: top;\n",
       "    }\n",
       "\n",
       "    .dataframe thead th {\n",
       "        text-align: right;\n",
       "    }\n",
       "</style>\n",
       "<table border=\"1\" class=\"dataframe\">\n",
       "  <thead>\n",
       "    <tr style=\"text-align: right;\">\n",
       "      <th></th>\n",
       "      <th>0</th>\n",
       "      <th>1</th>\n",
       "      <th>2</th>\n",
       "      <th>3</th>\n",
       "      <th>4</th>\n",
       "      <th>5</th>\n",
       "      <th>6</th>\n",
       "      <th>7</th>\n",
       "      <th>8</th>\n",
       "      <th>9</th>\n",
       "      <th>10</th>\n",
       "    </tr>\n",
       "  </thead>\n",
       "  <tbody>\n",
       "    <tr>\n",
       "      <th>0</th>\n",
       "      <td>990001</td>\n",
       "      <td>addx</td>\n",
       "      <td>17</td>\n",
       "      <td>29</td>\n",
       "      <td>16</td>\n",
       "      <td>49</td>\n",
       "      <td>43</td>\n",
       "      <td>154</td>\n",
       "      <td>C</td>\n",
       "      <td>A</td>\n",
       "      <td>C</td>\n",
       "    </tr>\n",
       "    <tr>\n",
       "      <th>1</th>\n",
       "      <td>990002</td>\n",
       "      <td>stch</td>\n",
       "      <td>30</td>\n",
       "      <td>9</td>\n",
       "      <td>48</td>\n",
       "      <td>25</td>\n",
       "      <td>81</td>\n",
       "      <td>193</td>\n",
       "      <td>C</td>\n",
       "      <td>A</td>\n",
       "      <td>A</td>\n",
       "    </tr>\n",
       "    <tr>\n",
       "      <th>2</th>\n",
       "      <td>990003</td>\n",
       "      <td>gali</td>\n",
       "      <td>93</td>\n",
       "      <td>60</td>\n",
       "      <td>6</td>\n",
       "      <td>84</td>\n",
       "      <td>36</td>\n",
       "      <td>279</td>\n",
       "      <td>A</td>\n",
       "      <td>C</td>\n",
       "      <td>A</td>\n",
       "    </tr>\n",
       "    <tr>\n",
       "      <th>3</th>\n",
       "      <td>990004</td>\n",
       "      <td>miat</td>\n",
       "      <td>73</td>\n",
       "      <td>22</td>\n",
       "      <td>48</td>\n",
       "      <td>24</td>\n",
       "      <td>72</td>\n",
       "      <td>239</td>\n",
       "      <td>B</td>\n",
       "      <td>C</td>\n",
       "      <td>C</td>\n",
       "    </tr>\n",
       "    <tr>\n",
       "      <th>4</th>\n",
       "      <td>990005</td>\n",
       "      <td>oran</td>\n",
       "      <td>33</td>\n",
       "      <td>38</td>\n",
       "      <td>59</td>\n",
       "      <td>58</td>\n",
       "      <td>28</td>\n",
       "      <td>216</td>\n",
       "      <td>C</td>\n",
       "      <td>B</td>\n",
       "      <td>A</td>\n",
       "    </tr>\n",
       "    <tr>\n",
       "      <th>5</th>\n",
       "      <td>990006</td>\n",
       "      <td>sj24</td>\n",
       "      <td>27</td>\n",
       "      <td>65</td>\n",
       "      <td>54</td>\n",
       "      <td>77</td>\n",
       "      <td>33</td>\n",
       "      <td>256</td>\n",
       "      <td>B</td>\n",
       "      <td>A</td>\n",
       "      <td>A</td>\n",
       "    </tr>\n",
       "    <tr>\n",
       "      <th>6</th>\n",
       "      <td>990007</td>\n",
       "      <td>kor2</td>\n",
       "      <td>33</td>\n",
       "      <td>85</td>\n",
       "      <td>98</td>\n",
       "      <td>60</td>\n",
       "      <td>66</td>\n",
       "      <td>342</td>\n",
       "      <td>A</td>\n",
       "      <td>B</td>\n",
       "      <td>A</td>\n",
       "    </tr>\n",
       "    <tr>\n",
       "      <th>7</th>\n",
       "      <td>990008</td>\n",
       "      <td>vsky</td>\n",
       "      <td>41</td>\n",
       "      <td>5</td>\n",
       "      <td>99</td>\n",
       "      <td>14</td>\n",
       "      <td>67</td>\n",
       "      <td>226</td>\n",
       "      <td>C</td>\n",
       "      <td>A</td>\n",
       "      <td>C</td>\n",
       "    </tr>\n",
       "    <tr>\n",
       "      <th>8</th>\n",
       "      <td>990009</td>\n",
       "      <td>kimd</td>\n",
       "      <td>74</td>\n",
       "      <td>4</td>\n",
       "      <td>1</td>\n",
       "      <td>33</td>\n",
       "      <td>53</td>\n",
       "      <td>165</td>\n",
       "      <td>B</td>\n",
       "      <td>C</td>\n",
       "      <td>A</td>\n",
       "    </tr>\n",
       "    <tr>\n",
       "      <th>9</th>\n",
       "      <td>990010</td>\n",
       "      <td>blue</td>\n",
       "      <td>55</td>\n",
       "      <td>84</td>\n",
       "      <td>50</td>\n",
       "      <td>89</td>\n",
       "      <td>37</td>\n",
       "      <td>315</td>\n",
       "      <td>A</td>\n",
       "      <td>B</td>\n",
       "      <td>A</td>\n",
       "    </tr>\n",
       "  </tbody>\n",
       "</table>\n",
       "</div>"
      ],
      "text/plain": [
       "       0     1   2   3   4   5   6    7  8  9  10\n",
       "0  990001  addx  17  29  16  49  43  154  C  A  C\n",
       "1  990002  stch  30   9  48  25  81  193  C  A  A\n",
       "2  990003  gali  93  60   6  84  36  279  A  C  A\n",
       "3  990004  miat  73  22  48  24  72  239  B  C  C\n",
       "4  990005  oran  33  38  59  58  28  216  C  B  A\n",
       "5  990006  sj24  27  65  54  77  33  256  B  A  A\n",
       "6  990007  kor2  33  85  98  60  66  342  A  B  A\n",
       "7  990008  vsky  41   5  99  14  67  226  C  A  C\n",
       "8  990009  kimd  74   4   1  33  53  165  B  C  A\n",
       "9  990010  blue  55  84  50  89  37  315  A  B  A"
      ]
     },
     "execution_count": 37,
     "metadata": {},
     "output_type": "execute_result"
    }
   ],
   "source": [
    "gisa.head(10)"
   ]
  },
  {
   "cell_type": "code",
   "execution_count": 38,
   "id": "d96304c4-4fdf-47c2-baa3-712aeac75bae",
   "metadata": {},
   "outputs": [
    {
     "name": "stdout",
     "output_type": "stream",
     "text": [
      "<class 'pandas.core.frame.DataFrame'>\n",
      "RangeIndex: 1000 entries, 0 to 999\n",
      "Data columns (total 11 columns):\n",
      " #   Column  Non-Null Count  Dtype \n",
      "---  ------  --------------  ----- \n",
      " 0   0       1000 non-null   int64 \n",
      " 1   1       1000 non-null   object\n",
      " 2   2       1000 non-null   int64 \n",
      " 3   3       1000 non-null   int64 \n",
      " 4   4       1000 non-null   int64 \n",
      " 5   5       1000 non-null   int64 \n",
      " 6   6       1000 non-null   int64 \n",
      " 7   7       1000 non-null   int64 \n",
      " 8   8       1000 non-null   object\n",
      " 9   9       1000 non-null   object\n",
      " 10  10      1000 non-null   object\n",
      "dtypes: int64(7), object(4)\n",
      "memory usage: 86.1+ KB\n"
     ]
    }
   ],
   "source": [
    "gisa.info()"
   ]
  },
  {
   "cell_type": "code",
   "execution_count": 39,
   "id": "4ba761f7-0db3-416c-bd51-29685e919406",
   "metadata": {},
   "outputs": [],
   "source": [
    "gisa.columns = ['stdNo','email','kor','eng','math','sci','hist','total','mgrCode','accCode','locCode']"
   ]
  },
  {
   "cell_type": "code",
   "execution_count": 40,
   "id": "c8214b75-955b-4c9c-9dfb-f46431b5c74b",
   "metadata": {},
   "outputs": [
    {
     "data": {
      "text/html": [
       "<div>\n",
       "<style scoped>\n",
       "    .dataframe tbody tr th:only-of-type {\n",
       "        vertical-align: middle;\n",
       "    }\n",
       "\n",
       "    .dataframe tbody tr th {\n",
       "        vertical-align: top;\n",
       "    }\n",
       "\n",
       "    .dataframe thead th {\n",
       "        text-align: right;\n",
       "    }\n",
       "</style>\n",
       "<table border=\"1\" class=\"dataframe\">\n",
       "  <thead>\n",
       "    <tr style=\"text-align: right;\">\n",
       "      <th></th>\n",
       "      <th>stdNo</th>\n",
       "      <th>email</th>\n",
       "      <th>kor</th>\n",
       "      <th>eng</th>\n",
       "      <th>math</th>\n",
       "      <th>sci</th>\n",
       "      <th>hist</th>\n",
       "      <th>total</th>\n",
       "      <th>mgrCode</th>\n",
       "      <th>accCode</th>\n",
       "      <th>locCode</th>\n",
       "    </tr>\n",
       "  </thead>\n",
       "  <tbody>\n",
       "    <tr>\n",
       "      <th>0</th>\n",
       "      <td>990001</td>\n",
       "      <td>addx</td>\n",
       "      <td>17</td>\n",
       "      <td>29</td>\n",
       "      <td>16</td>\n",
       "      <td>49</td>\n",
       "      <td>43</td>\n",
       "      <td>154</td>\n",
       "      <td>C</td>\n",
       "      <td>A</td>\n",
       "      <td>C</td>\n",
       "    </tr>\n",
       "    <tr>\n",
       "      <th>1</th>\n",
       "      <td>990002</td>\n",
       "      <td>stch</td>\n",
       "      <td>30</td>\n",
       "      <td>9</td>\n",
       "      <td>48</td>\n",
       "      <td>25</td>\n",
       "      <td>81</td>\n",
       "      <td>193</td>\n",
       "      <td>C</td>\n",
       "      <td>A</td>\n",
       "      <td>A</td>\n",
       "    </tr>\n",
       "    <tr>\n",
       "      <th>2</th>\n",
       "      <td>990003</td>\n",
       "      <td>gali</td>\n",
       "      <td>93</td>\n",
       "      <td>60</td>\n",
       "      <td>6</td>\n",
       "      <td>84</td>\n",
       "      <td>36</td>\n",
       "      <td>279</td>\n",
       "      <td>A</td>\n",
       "      <td>C</td>\n",
       "      <td>A</td>\n",
       "    </tr>\n",
       "  </tbody>\n",
       "</table>\n",
       "</div>"
      ],
      "text/plain": [
       "    stdNo email  kor  eng  math  sci  hist  total mgrCode accCode locCode\n",
       "0  990001  addx   17   29    16   49    43    154       C       A       C\n",
       "1  990002  stch   30    9    48   25    81    193       C       A       A\n",
       "2  990003  gali   93   60     6   84    36    279       A       C       A"
      ]
     },
     "execution_count": 40,
     "metadata": {},
     "output_type": "execute_result"
    }
   ],
   "source": [
    "gisa.head(3)"
   ]
  },
  {
   "cell_type": "code",
   "execution_count": 47,
   "id": "0b34c017-6ee2-499d-ae0a-d0c394e02583",
   "metadata": {},
   "outputs": [],
   "source": [
    "gisa_sort = gisa.sort_values(by=['total','stdNo'], ascending=[False,True])"
   ]
  },
  {
   "cell_type": "code",
   "execution_count": 48,
   "id": "34296319-2ea9-4c50-970f-dc6f714ecf31",
   "metadata": {},
   "outputs": [
    {
     "data": {
      "text/html": [
       "<div>\n",
       "<style scoped>\n",
       "    .dataframe tbody tr th:only-of-type {\n",
       "        vertical-align: middle;\n",
       "    }\n",
       "\n",
       "    .dataframe tbody tr th {\n",
       "        vertical-align: top;\n",
       "    }\n",
       "\n",
       "    .dataframe thead th {\n",
       "        text-align: right;\n",
       "    }\n",
       "</style>\n",
       "<table border=\"1\" class=\"dataframe\">\n",
       "  <thead>\n",
       "    <tr style=\"text-align: right;\">\n",
       "      <th></th>\n",
       "      <th>stdNo</th>\n",
       "      <th>email</th>\n",
       "      <th>kor</th>\n",
       "      <th>eng</th>\n",
       "      <th>math</th>\n",
       "      <th>sci</th>\n",
       "      <th>hist</th>\n",
       "      <th>total</th>\n",
       "      <th>mgrCode</th>\n",
       "      <th>accCode</th>\n",
       "      <th>locCode</th>\n",
       "    </tr>\n",
       "  </thead>\n",
       "  <tbody>\n",
       "    <tr>\n",
       "      <th>363</th>\n",
       "      <td>990364</td>\n",
       "      <td>ywjs</td>\n",
       "      <td>88</td>\n",
       "      <td>81</td>\n",
       "      <td>100</td>\n",
       "      <td>84</td>\n",
       "      <td>81</td>\n",
       "      <td>434</td>\n",
       "      <td>B</td>\n",
       "      <td>C</td>\n",
       "      <td>A</td>\n",
       "    </tr>\n",
       "    <tr>\n",
       "      <th>50</th>\n",
       "      <td>990051</td>\n",
       "      <td>soor</td>\n",
       "      <td>94</td>\n",
       "      <td>98</td>\n",
       "      <td>85</td>\n",
       "      <td>64</td>\n",
       "      <td>75</td>\n",
       "      <td>416</td>\n",
       "      <td>A</td>\n",
       "      <td>B</td>\n",
       "      <td>A</td>\n",
       "    </tr>\n",
       "    <tr>\n",
       "      <th>421</th>\n",
       "      <td>990422</td>\n",
       "      <td>itkz</td>\n",
       "      <td>93</td>\n",
       "      <td>97</td>\n",
       "      <td>74</td>\n",
       "      <td>69</td>\n",
       "      <td>80</td>\n",
       "      <td>413</td>\n",
       "      <td>C</td>\n",
       "      <td>B</td>\n",
       "      <td>B</td>\n",
       "    </tr>\n",
       "    <tr>\n",
       "      <th>38</th>\n",
       "      <td>990039</td>\n",
       "      <td>huff</td>\n",
       "      <td>52</td>\n",
       "      <td>99</td>\n",
       "      <td>97</td>\n",
       "      <td>87</td>\n",
       "      <td>72</td>\n",
       "      <td>407</td>\n",
       "      <td>A</td>\n",
       "      <td>C</td>\n",
       "      <td>A</td>\n",
       "    </tr>\n",
       "    <tr>\n",
       "      <th>658</th>\n",
       "      <td>990659</td>\n",
       "      <td>pete</td>\n",
       "      <td>100</td>\n",
       "      <td>98</td>\n",
       "      <td>77</td>\n",
       "      <td>44</td>\n",
       "      <td>85</td>\n",
       "      <td>404</td>\n",
       "      <td>B</td>\n",
       "      <td>C</td>\n",
       "      <td>C</td>\n",
       "    </tr>\n",
       "    <tr>\n",
       "      <th>752</th>\n",
       "      <td>990753</td>\n",
       "      <td>firs</td>\n",
       "      <td>82</td>\n",
       "      <td>58</td>\n",
       "      <td>93</td>\n",
       "      <td>86</td>\n",
       "      <td>83</td>\n",
       "      <td>402</td>\n",
       "      <td>A</td>\n",
       "      <td>C</td>\n",
       "      <td>B</td>\n",
       "    </tr>\n",
       "    <tr>\n",
       "      <th>864</th>\n",
       "      <td>990865</td>\n",
       "      <td>hysu</td>\n",
       "      <td>54</td>\n",
       "      <td>96</td>\n",
       "      <td>96</td>\n",
       "      <td>55</td>\n",
       "      <td>95</td>\n",
       "      <td>396</td>\n",
       "      <td>C</td>\n",
       "      <td>A</td>\n",
       "      <td>A</td>\n",
       "    </tr>\n",
       "    <tr>\n",
       "      <th>709</th>\n",
       "      <td>990710</td>\n",
       "      <td>kleo</td>\n",
       "      <td>85</td>\n",
       "      <td>87</td>\n",
       "      <td>49</td>\n",
       "      <td>76</td>\n",
       "      <td>98</td>\n",
       "      <td>395</td>\n",
       "      <td>B</td>\n",
       "      <td>C</td>\n",
       "      <td>B</td>\n",
       "    </tr>\n",
       "    <tr>\n",
       "      <th>13</th>\n",
       "      <td>990014</td>\n",
       "      <td>oldn</td>\n",
       "      <td>83</td>\n",
       "      <td>89</td>\n",
       "      <td>67</td>\n",
       "      <td>67</td>\n",
       "      <td>87</td>\n",
       "      <td>393</td>\n",
       "      <td>B</td>\n",
       "      <td>C</td>\n",
       "      <td>A</td>\n",
       "    </tr>\n",
       "    <tr>\n",
       "      <th>439</th>\n",
       "      <td>990440</td>\n",
       "      <td>gino</td>\n",
       "      <td>59</td>\n",
       "      <td>67</td>\n",
       "      <td>91</td>\n",
       "      <td>81</td>\n",
       "      <td>95</td>\n",
       "      <td>393</td>\n",
       "      <td>A</td>\n",
       "      <td>B</td>\n",
       "      <td>A</td>\n",
       "    </tr>\n",
       "  </tbody>\n",
       "</table>\n",
       "</div>"
      ],
      "text/plain": [
       "      stdNo email  kor  eng  math  sci  hist  total mgrCode accCode locCode\n",
       "363  990364  ywjs   88   81   100   84    81    434       B       C       A\n",
       "50   990051  soor   94   98    85   64    75    416       A       B       A\n",
       "421  990422  itkz   93   97    74   69    80    413       C       B       B\n",
       "38   990039  huff   52   99    97   87    72    407       A       C       A\n",
       "658  990659  pete  100   98    77   44    85    404       B       C       C\n",
       "752  990753  firs   82   58    93   86    83    402       A       C       B\n",
       "864  990865  hysu   54   96    96   55    95    396       C       A       A\n",
       "709  990710  kleo   85   87    49   76    98    395       B       C       B\n",
       "13   990014  oldn   83   89    67   67    87    393       B       C       A\n",
       "439  990440  gino   59   67    91   81    95    393       A       B       A"
      ]
     },
     "execution_count": 48,
     "metadata": {},
     "output_type": "execute_result"
    }
   ],
   "source": [
    "gisa_sort.head(10)"
   ]
  },
  {
   "cell_type": "code",
   "execution_count": 50,
   "id": "0194af8a-e36b-47ab-b57a-258db8783e79",
   "metadata": {},
   "outputs": [
    {
     "data": {
      "text/html": [
       "<div>\n",
       "<style scoped>\n",
       "    .dataframe tbody tr th:only-of-type {\n",
       "        vertical-align: middle;\n",
       "    }\n",
       "\n",
       "    .dataframe tbody tr th {\n",
       "        vertical-align: top;\n",
       "    }\n",
       "\n",
       "    .dataframe thead th {\n",
       "        text-align: right;\n",
       "    }\n",
       "</style>\n",
       "<table border=\"1\" class=\"dataframe\">\n",
       "  <thead>\n",
       "    <tr style=\"text-align: right;\">\n",
       "      <th></th>\n",
       "      <th>kor</th>\n",
       "      <th>eng</th>\n",
       "      <th>math</th>\n",
       "    </tr>\n",
       "  </thead>\n",
       "  <tbody>\n",
       "    <tr>\n",
       "      <th>0</th>\n",
       "      <td>17</td>\n",
       "      <td>29</td>\n",
       "      <td>16</td>\n",
       "    </tr>\n",
       "    <tr>\n",
       "      <th>1</th>\n",
       "      <td>30</td>\n",
       "      <td>9</td>\n",
       "      <td>48</td>\n",
       "    </tr>\n",
       "    <tr>\n",
       "      <th>2</th>\n",
       "      <td>93</td>\n",
       "      <td>60</td>\n",
       "      <td>6</td>\n",
       "    </tr>\n",
       "    <tr>\n",
       "      <th>3</th>\n",
       "      <td>73</td>\n",
       "      <td>22</td>\n",
       "      <td>48</td>\n",
       "    </tr>\n",
       "    <tr>\n",
       "      <th>4</th>\n",
       "      <td>33</td>\n",
       "      <td>38</td>\n",
       "      <td>59</td>\n",
       "    </tr>\n",
       "  </tbody>\n",
       "</table>\n",
       "</div>"
      ],
      "text/plain": [
       "   kor  eng  math\n",
       "0   17   29    16\n",
       "1   30    9    48\n",
       "2   93   60     6\n",
       "3   73   22    48\n",
       "4   33   38    59"
      ]
     },
     "execution_count": 50,
     "metadata": {},
     "output_type": "execute_result"
    }
   ],
   "source": [
    "gisa[['kor','eng','math']].head()"
   ]
  },
  {
   "cell_type": "code",
   "execution_count": 52,
   "id": "c6921aa3-1f31-4182-a1e4-5fa817e72cfe",
   "metadata": {},
   "outputs": [
    {
     "data": {
      "text/html": [
       "<div>\n",
       "<style scoped>\n",
       "    .dataframe tbody tr th:only-of-type {\n",
       "        vertical-align: middle;\n",
       "    }\n",
       "\n",
       "    .dataframe tbody tr th {\n",
       "        vertical-align: top;\n",
       "    }\n",
       "\n",
       "    .dataframe thead th {\n",
       "        text-align: right;\n",
       "    }\n",
       "</style>\n",
       "<table border=\"1\" class=\"dataframe\">\n",
       "  <thead>\n",
       "    <tr style=\"text-align: right;\">\n",
       "      <th></th>\n",
       "      <th>stdNo</th>\n",
       "      <th>email</th>\n",
       "      <th>kor</th>\n",
       "    </tr>\n",
       "  </thead>\n",
       "  <tbody>\n",
       "    <tr>\n",
       "      <th>1</th>\n",
       "      <td>990002</td>\n",
       "      <td>stch</td>\n",
       "      <td>30</td>\n",
       "    </tr>\n",
       "    <tr>\n",
       "      <th>2</th>\n",
       "      <td>990003</td>\n",
       "      <td>gali</td>\n",
       "      <td>93</td>\n",
       "    </tr>\n",
       "    <tr>\n",
       "      <th>3</th>\n",
       "      <td>990004</td>\n",
       "      <td>miat</td>\n",
       "      <td>73</td>\n",
       "    </tr>\n",
       "  </tbody>\n",
       "</table>\n",
       "</div>"
      ],
      "text/plain": [
       "    stdNo email  kor\n",
       "1  990002  stch   30\n",
       "2  990003  gali   93\n",
       "3  990004  miat   73"
      ]
     },
     "execution_count": 52,
     "metadata": {},
     "output_type": "execute_result"
    }
   ],
   "source": [
    "gisa.iloc[1:4,:3]"
   ]
  },
  {
   "cell_type": "code",
   "execution_count": 53,
   "id": "0e6983c9-41b2-40ec-801b-c7386236a9eb",
   "metadata": {},
   "outputs": [
    {
     "data": {
      "text/html": [
       "<div>\n",
       "<style scoped>\n",
       "    .dataframe tbody tr th:only-of-type {\n",
       "        vertical-align: middle;\n",
       "    }\n",
       "\n",
       "    .dataframe tbody tr th {\n",
       "        vertical-align: top;\n",
       "    }\n",
       "\n",
       "    .dataframe thead th {\n",
       "        text-align: right;\n",
       "    }\n",
       "</style>\n",
       "<table border=\"1\" class=\"dataframe\">\n",
       "  <thead>\n",
       "    <tr style=\"text-align: right;\">\n",
       "      <th></th>\n",
       "      <th>stdNo</th>\n",
       "      <th>email</th>\n",
       "      <th>kor</th>\n",
       "      <th>eng</th>\n",
       "      <th>math</th>\n",
       "      <th>sci</th>\n",
       "      <th>hist</th>\n",
       "      <th>total</th>\n",
       "      <th>mgrCode</th>\n",
       "      <th>accCode</th>\n",
       "      <th>locCode</th>\n",
       "    </tr>\n",
       "  </thead>\n",
       "  <tbody>\n",
       "    <tr>\n",
       "      <th>38</th>\n",
       "      <td>990039</td>\n",
       "      <td>huff</td>\n",
       "      <td>52</td>\n",
       "      <td>99</td>\n",
       "      <td>97</td>\n",
       "      <td>87</td>\n",
       "      <td>72</td>\n",
       "      <td>407</td>\n",
       "      <td>A</td>\n",
       "      <td>C</td>\n",
       "      <td>A</td>\n",
       "    </tr>\n",
       "    <tr>\n",
       "      <th>50</th>\n",
       "      <td>990051</td>\n",
       "      <td>soor</td>\n",
       "      <td>94</td>\n",
       "      <td>98</td>\n",
       "      <td>85</td>\n",
       "      <td>64</td>\n",
       "      <td>75</td>\n",
       "      <td>416</td>\n",
       "      <td>A</td>\n",
       "      <td>B</td>\n",
       "      <td>A</td>\n",
       "    </tr>\n",
       "    <tr>\n",
       "      <th>363</th>\n",
       "      <td>990364</td>\n",
       "      <td>ywjs</td>\n",
       "      <td>88</td>\n",
       "      <td>81</td>\n",
       "      <td>100</td>\n",
       "      <td>84</td>\n",
       "      <td>81</td>\n",
       "      <td>434</td>\n",
       "      <td>B</td>\n",
       "      <td>C</td>\n",
       "      <td>A</td>\n",
       "    </tr>\n",
       "    <tr>\n",
       "      <th>421</th>\n",
       "      <td>990422</td>\n",
       "      <td>itkz</td>\n",
       "      <td>93</td>\n",
       "      <td>97</td>\n",
       "      <td>74</td>\n",
       "      <td>69</td>\n",
       "      <td>80</td>\n",
       "      <td>413</td>\n",
       "      <td>C</td>\n",
       "      <td>B</td>\n",
       "      <td>B</td>\n",
       "    </tr>\n",
       "    <tr>\n",
       "      <th>658</th>\n",
       "      <td>990659</td>\n",
       "      <td>pete</td>\n",
       "      <td>100</td>\n",
       "      <td>98</td>\n",
       "      <td>77</td>\n",
       "      <td>44</td>\n",
       "      <td>85</td>\n",
       "      <td>404</td>\n",
       "      <td>B</td>\n",
       "      <td>C</td>\n",
       "      <td>C</td>\n",
       "    </tr>\n",
       "    <tr>\n",
       "      <th>752</th>\n",
       "      <td>990753</td>\n",
       "      <td>firs</td>\n",
       "      <td>82</td>\n",
       "      <td>58</td>\n",
       "      <td>93</td>\n",
       "      <td>86</td>\n",
       "      <td>83</td>\n",
       "      <td>402</td>\n",
       "      <td>A</td>\n",
       "      <td>C</td>\n",
       "      <td>B</td>\n",
       "    </tr>\n",
       "  </tbody>\n",
       "</table>\n",
       "</div>"
      ],
      "text/plain": [
       "      stdNo email  kor  eng  math  sci  hist  total mgrCode accCode locCode\n",
       "38   990039  huff   52   99    97   87    72    407       A       C       A\n",
       "50   990051  soor   94   98    85   64    75    416       A       B       A\n",
       "363  990364  ywjs   88   81   100   84    81    434       B       C       A\n",
       "421  990422  itkz   93   97    74   69    80    413       C       B       B\n",
       "658  990659  pete  100   98    77   44    85    404       B       C       C\n",
       "752  990753  firs   82   58    93   86    83    402       A       C       B"
      ]
     },
     "execution_count": 53,
     "metadata": {},
     "output_type": "execute_result"
    }
   ],
   "source": [
    "gisa[gisa['total']>=400]"
   ]
  },
  {
   "cell_type": "code",
   "execution_count": 56,
   "id": "3f697bf7-b956-4257-a213-8761d9faf5e4",
   "metadata": {},
   "outputs": [],
   "source": [
    "gisa['quiz1']= gisa.apply(lambda row : row['kor']+row.math, axis=1) "
   ]
  },
  {
   "cell_type": "code",
   "execution_count": 57,
   "id": "a0af5637-f400-4012-a81e-4f875357b05a",
   "metadata": {},
   "outputs": [
    {
     "data": {
      "text/html": [
       "<div>\n",
       "<style scoped>\n",
       "    .dataframe tbody tr th:only-of-type {\n",
       "        vertical-align: middle;\n",
       "    }\n",
       "\n",
       "    .dataframe tbody tr th {\n",
       "        vertical-align: top;\n",
       "    }\n",
       "\n",
       "    .dataframe thead th {\n",
       "        text-align: right;\n",
       "    }\n",
       "</style>\n",
       "<table border=\"1\" class=\"dataframe\">\n",
       "  <thead>\n",
       "    <tr style=\"text-align: right;\">\n",
       "      <th></th>\n",
       "      <th>stdNo</th>\n",
       "      <th>email</th>\n",
       "      <th>kor</th>\n",
       "      <th>eng</th>\n",
       "      <th>math</th>\n",
       "      <th>sci</th>\n",
       "      <th>hist</th>\n",
       "      <th>total</th>\n",
       "      <th>mgrCode</th>\n",
       "      <th>accCode</th>\n",
       "      <th>locCode</th>\n",
       "      <th>quiz1</th>\n",
       "    </tr>\n",
       "  </thead>\n",
       "  <tbody>\n",
       "    <tr>\n",
       "      <th>0</th>\n",
       "      <td>990001</td>\n",
       "      <td>addx</td>\n",
       "      <td>17</td>\n",
       "      <td>29</td>\n",
       "      <td>16</td>\n",
       "      <td>49</td>\n",
       "      <td>43</td>\n",
       "      <td>154</td>\n",
       "      <td>C</td>\n",
       "      <td>A</td>\n",
       "      <td>C</td>\n",
       "      <td>33</td>\n",
       "    </tr>\n",
       "    <tr>\n",
       "      <th>1</th>\n",
       "      <td>990002</td>\n",
       "      <td>stch</td>\n",
       "      <td>30</td>\n",
       "      <td>9</td>\n",
       "      <td>48</td>\n",
       "      <td>25</td>\n",
       "      <td>81</td>\n",
       "      <td>193</td>\n",
       "      <td>C</td>\n",
       "      <td>A</td>\n",
       "      <td>A</td>\n",
       "      <td>78</td>\n",
       "    </tr>\n",
       "    <tr>\n",
       "      <th>2</th>\n",
       "      <td>990003</td>\n",
       "      <td>gali</td>\n",
       "      <td>93</td>\n",
       "      <td>60</td>\n",
       "      <td>6</td>\n",
       "      <td>84</td>\n",
       "      <td>36</td>\n",
       "      <td>279</td>\n",
       "      <td>A</td>\n",
       "      <td>C</td>\n",
       "      <td>A</td>\n",
       "      <td>99</td>\n",
       "    </tr>\n",
       "  </tbody>\n",
       "</table>\n",
       "</div>"
      ],
      "text/plain": [
       "    stdNo email  kor  eng  math  sci  hist  total mgrCode accCode locCode  \\\n",
       "0  990001  addx   17   29    16   49    43    154       C       A       C   \n",
       "1  990002  stch   30    9    48   25    81    193       C       A       A   \n",
       "2  990003  gali   93   60     6   84    36    279       A       C       A   \n",
       "\n",
       "   quiz1  \n",
       "0     33  \n",
       "1     78  \n",
       "2     99  "
      ]
     },
     "execution_count": 57,
     "metadata": {},
     "output_type": "execute_result"
    }
   ],
   "source": [
    "gisa.head(3)"
   ]
  },
  {
   "cell_type": "code",
   "execution_count": 58,
   "id": "ec52ca63-826b-4eaf-b4df-fc64524151c1",
   "metadata": {},
   "outputs": [
    {
     "data": {
      "text/html": [
       "<div>\n",
       "<style scoped>\n",
       "    .dataframe tbody tr th:only-of-type {\n",
       "        vertical-align: middle;\n",
       "    }\n",
       "\n",
       "    .dataframe tbody tr th {\n",
       "        vertical-align: top;\n",
       "    }\n",
       "\n",
       "    .dataframe thead th {\n",
       "        text-align: right;\n",
       "    }\n",
       "</style>\n",
       "<table border=\"1\" class=\"dataframe\">\n",
       "  <thead>\n",
       "    <tr style=\"text-align: right;\">\n",
       "      <th></th>\n",
       "      <th>stdNo</th>\n",
       "      <th>email</th>\n",
       "      <th>kor</th>\n",
       "      <th>eng</th>\n",
       "      <th>math</th>\n",
       "      <th>sci</th>\n",
       "      <th>hist</th>\n",
       "      <th>total</th>\n",
       "      <th>mgrCode</th>\n",
       "      <th>accCode</th>\n",
       "      <th>locCode</th>\n",
       "      <th>quiz1</th>\n",
       "    </tr>\n",
       "  </thead>\n",
       "  <tbody>\n",
       "    <tr>\n",
       "      <th>0</th>\n",
       "      <td>990001</td>\n",
       "      <td>addx</td>\n",
       "      <td>17</td>\n",
       "      <td>29</td>\n",
       "      <td>16</td>\n",
       "      <td>49</td>\n",
       "      <td>43</td>\n",
       "      <td>154</td>\n",
       "      <td>C</td>\n",
       "      <td>A</td>\n",
       "      <td>C</td>\n",
       "      <td>33</td>\n",
       "    </tr>\n",
       "    <tr>\n",
       "      <th>1</th>\n",
       "      <td>990002</td>\n",
       "      <td>stch</td>\n",
       "      <td>30</td>\n",
       "      <td>9</td>\n",
       "      <td>48</td>\n",
       "      <td>25</td>\n",
       "      <td>81</td>\n",
       "      <td>193</td>\n",
       "      <td>C</td>\n",
       "      <td>A</td>\n",
       "      <td>A</td>\n",
       "      <td>78</td>\n",
       "    </tr>\n",
       "    <tr>\n",
       "      <th>2</th>\n",
       "      <td>990003</td>\n",
       "      <td>gali</td>\n",
       "      <td>93</td>\n",
       "      <td>60</td>\n",
       "      <td>6</td>\n",
       "      <td>84</td>\n",
       "      <td>36</td>\n",
       "      <td>279</td>\n",
       "      <td>A</td>\n",
       "      <td>C</td>\n",
       "      <td>A</td>\n",
       "      <td>99</td>\n",
       "    </tr>\n",
       "  </tbody>\n",
       "</table>\n",
       "</div>"
      ],
      "text/plain": [
       "    stdNo email  kor  eng  math  sci  hist  total mgrCode accCode locCode  \\\n",
       "0  990001  addx   17   29    16   49    43    154       C       A       C   \n",
       "1  990002  stch   30    9    48   25    81    193       C       A       A   \n",
       "2  990003  gali   93   60     6   84    36    279       A       C       A   \n",
       "\n",
       "   quiz1  \n",
       "0     33  \n",
       "1     78  \n",
       "2     99  "
      ]
     },
     "execution_count": 58,
     "metadata": {},
     "output_type": "execute_result"
    }
   ],
   "source": [
    "gisa.head(3)"
   ]
  },
  {
   "cell_type": "code",
   "execution_count": 59,
   "id": "8455b8c9-586d-4d5c-a335-4104b31d4c92",
   "metadata": {},
   "outputs": [],
   "source": [
    "gisa_1 = gisa[gisa.locCode=='B']"
   ]
  },
  {
   "cell_type": "code",
   "execution_count": 60,
   "id": "6e02c852-f28a-4fdb-a60a-3deefefdf8e2",
   "metadata": {},
   "outputs": [
    {
     "data": {
      "text/html": [
       "<div>\n",
       "<style scoped>\n",
       "    .dataframe tbody tr th:only-of-type {\n",
       "        vertical-align: middle;\n",
       "    }\n",
       "\n",
       "    .dataframe tbody tr th {\n",
       "        vertical-align: top;\n",
       "    }\n",
       "\n",
       "    .dataframe thead th {\n",
       "        text-align: right;\n",
       "    }\n",
       "</style>\n",
       "<table border=\"1\" class=\"dataframe\">\n",
       "  <thead>\n",
       "    <tr style=\"text-align: right;\">\n",
       "      <th></th>\n",
       "      <th>stdNo</th>\n",
       "      <th>email</th>\n",
       "      <th>kor</th>\n",
       "      <th>eng</th>\n",
       "      <th>math</th>\n",
       "      <th>sci</th>\n",
       "      <th>hist</th>\n",
       "      <th>total</th>\n",
       "      <th>mgrCode</th>\n",
       "      <th>accCode</th>\n",
       "      <th>locCode</th>\n",
       "      <th>quiz1</th>\n",
       "    </tr>\n",
       "  </thead>\n",
       "  <tbody>\n",
       "    <tr>\n",
       "      <th>20</th>\n",
       "      <td>990021</td>\n",
       "      <td>equi</td>\n",
       "      <td>13</td>\n",
       "      <td>95</td>\n",
       "      <td>56</td>\n",
       "      <td>93</td>\n",
       "      <td>88</td>\n",
       "      <td>345</td>\n",
       "      <td>B</td>\n",
       "      <td>C</td>\n",
       "      <td>B</td>\n",
       "      <td>69</td>\n",
       "    </tr>\n",
       "    <tr>\n",
       "      <th>22</th>\n",
       "      <td>990023</td>\n",
       "      <td>tess</td>\n",
       "      <td>86</td>\n",
       "      <td>71</td>\n",
       "      <td>87</td>\n",
       "      <td>6</td>\n",
       "      <td>15</td>\n",
       "      <td>265</td>\n",
       "      <td>B</td>\n",
       "      <td>C</td>\n",
       "      <td>B</td>\n",
       "      <td>173</td>\n",
       "    </tr>\n",
       "    <tr>\n",
       "      <th>24</th>\n",
       "      <td>990025</td>\n",
       "      <td>lyj2</td>\n",
       "      <td>24</td>\n",
       "      <td>90</td>\n",
       "      <td>72</td>\n",
       "      <td>29</td>\n",
       "      <td>52</td>\n",
       "      <td>267</td>\n",
       "      <td>B</td>\n",
       "      <td>A</td>\n",
       "      <td>B</td>\n",
       "      <td>96</td>\n",
       "    </tr>\n",
       "    <tr>\n",
       "      <th>25</th>\n",
       "      <td>990026</td>\n",
       "      <td>netm</td>\n",
       "      <td>65</td>\n",
       "      <td>4</td>\n",
       "      <td>4</td>\n",
       "      <td>23</td>\n",
       "      <td>45</td>\n",
       "      <td>141</td>\n",
       "      <td>B</td>\n",
       "      <td>C</td>\n",
       "      <td>B</td>\n",
       "      <td>69</td>\n",
       "    </tr>\n",
       "    <tr>\n",
       "      <th>28</th>\n",
       "      <td>990029</td>\n",
       "      <td>minh</td>\n",
       "      <td>3</td>\n",
       "      <td>11</td>\n",
       "      <td>89</td>\n",
       "      <td>71</td>\n",
       "      <td>88</td>\n",
       "      <td>262</td>\n",
       "      <td>B</td>\n",
       "      <td>C</td>\n",
       "      <td>B</td>\n",
       "      <td>92</td>\n",
       "    </tr>\n",
       "  </tbody>\n",
       "</table>\n",
       "</div>"
      ],
      "text/plain": [
       "     stdNo email  kor  eng  math  sci  hist  total mgrCode accCode locCode  \\\n",
       "20  990021  equi   13   95    56   93    88    345       B       C       B   \n",
       "22  990023  tess   86   71    87    6    15    265       B       C       B   \n",
       "24  990025  lyj2   24   90    72   29    52    267       B       A       B   \n",
       "25  990026  netm   65    4     4   23    45    141       B       C       B   \n",
       "28  990029  minh    3   11    89   71    88    262       B       C       B   \n",
       "\n",
       "    quiz1  \n",
       "20     69  \n",
       "22    173  \n",
       "24     96  \n",
       "25     69  \n",
       "28     92  "
      ]
     },
     "execution_count": 60,
     "metadata": {},
     "output_type": "execute_result"
    }
   ],
   "source": [
    "gisa_1.head()"
   ]
  },
  {
   "cell_type": "code",
   "execution_count": 61,
   "id": "99725ab4-5d5f-4ae8-ab68-4a37e7ff0b37",
   "metadata": {},
   "outputs": [],
   "source": [
    "answer = gisa_1.sort_values(by=['quiz1','stdNo'], ascending=[False,True])"
   ]
  },
  {
   "cell_type": "code",
   "execution_count": 65,
   "id": "466c931d-5f8e-4566-9f43-d109eb1f9165",
   "metadata": {},
   "outputs": [
    {
     "data": {
      "text/plain": [
       "329    990330\n",
       "Name: stdNo, dtype: int64"
      ]
     },
     "execution_count": 65,
     "metadata": {},
     "output_type": "execute_result"
    }
   ],
   "source": [
    "answer[4:5].stdNo"
   ]
  },
  {
   "cell_type": "code",
   "execution_count": 66,
   "id": "7da7f952-8ae5-478c-82c5-6bea830fe69e",
   "metadata": {},
   "outputs": [
    {
     "data": {
      "text/plain": [
       "990330"
      ]
     },
     "execution_count": 66,
     "metadata": {},
     "output_type": "execute_result"
    }
   ],
   "source": [
    "answer.iloc[4,0]"
   ]
  },
  {
   "cell_type": "code",
   "execution_count": 68,
   "id": "6a765826-3083-4b77-b073-a2360ae1284f",
   "metadata": {},
   "outputs": [
    {
     "data": {
      "text/plain": [
       "189"
      ]
     },
     "execution_count": 68,
     "metadata": {},
     "output_type": "execute_result"
    }
   ],
   "source": [
    "gisa_1['quiz1'].max()"
   ]
  },
  {
   "cell_type": "code",
   "execution_count": 69,
   "id": "b0d441c1-ba2a-4ab1-9c85-52890c162687",
   "metadata": {},
   "outputs": [],
   "source": [
    "gisa_3 = gisa[(gisa.eng+gisa.math)>=120]"
   ]
  },
  {
   "cell_type": "code",
   "execution_count": 70,
   "id": "b98e1a1e-4899-4bdb-b50d-9953d2862a74",
   "metadata": {},
   "outputs": [
    {
     "data": {
      "text/html": [
       "<div>\n",
       "<style scoped>\n",
       "    .dataframe tbody tr th:only-of-type {\n",
       "        vertical-align: middle;\n",
       "    }\n",
       "\n",
       "    .dataframe tbody tr th {\n",
       "        vertical-align: top;\n",
       "    }\n",
       "\n",
       "    .dataframe thead th {\n",
       "        text-align: right;\n",
       "    }\n",
       "</style>\n",
       "<table border=\"1\" class=\"dataframe\">\n",
       "  <thead>\n",
       "    <tr style=\"text-align: right;\">\n",
       "      <th></th>\n",
       "      <th>stdNo</th>\n",
       "      <th>email</th>\n",
       "      <th>kor</th>\n",
       "      <th>eng</th>\n",
       "      <th>math</th>\n",
       "      <th>sci</th>\n",
       "      <th>hist</th>\n",
       "      <th>total</th>\n",
       "      <th>mgrCode</th>\n",
       "      <th>accCode</th>\n",
       "      <th>locCode</th>\n",
       "      <th>quiz1</th>\n",
       "    </tr>\n",
       "  </thead>\n",
       "  <tbody>\n",
       "    <tr>\n",
       "      <th>6</th>\n",
       "      <td>990007</td>\n",
       "      <td>kor2</td>\n",
       "      <td>33</td>\n",
       "      <td>85</td>\n",
       "      <td>98</td>\n",
       "      <td>60</td>\n",
       "      <td>66</td>\n",
       "      <td>342</td>\n",
       "      <td>A</td>\n",
       "      <td>B</td>\n",
       "      <td>A</td>\n",
       "      <td>131</td>\n",
       "    </tr>\n",
       "    <tr>\n",
       "      <th>9</th>\n",
       "      <td>990010</td>\n",
       "      <td>blue</td>\n",
       "      <td>55</td>\n",
       "      <td>84</td>\n",
       "      <td>50</td>\n",
       "      <td>89</td>\n",
       "      <td>37</td>\n",
       "      <td>315</td>\n",
       "      <td>A</td>\n",
       "      <td>B</td>\n",
       "      <td>A</td>\n",
       "      <td>105</td>\n",
       "    </tr>\n",
       "    <tr>\n",
       "      <th>10</th>\n",
       "      <td>990011</td>\n",
       "      <td>moja</td>\n",
       "      <td>43</td>\n",
       "      <td>69</td>\n",
       "      <td>68</td>\n",
       "      <td>23</td>\n",
       "      <td>92</td>\n",
       "      <td>295</td>\n",
       "      <td>B</td>\n",
       "      <td>A</td>\n",
       "      <td>C</td>\n",
       "      <td>111</td>\n",
       "    </tr>\n",
       "  </tbody>\n",
       "</table>\n",
       "</div>"
      ],
      "text/plain": [
       "     stdNo email  kor  eng  math  sci  hist  total mgrCode accCode locCode  \\\n",
       "6   990007  kor2   33   85    98   60    66    342       A       B       A   \n",
       "9   990010  blue   55   84    50   89    37    315       A       B       A   \n",
       "10  990011  moja   43   69    68   23    92    295       B       A       C   \n",
       "\n",
       "    quiz1  \n",
       "6     131  \n",
       "9     105  \n",
       "10    111  "
      ]
     },
     "execution_count": 70,
     "metadata": {},
     "output_type": "execute_result"
    }
   ],
   "source": [
    "gisa_3.head(3)"
   ]
  },
  {
   "cell_type": "code",
   "execution_count": 71,
   "id": "82bb75ef-6c71-4b62-a666-e3bf1fc29327",
   "metadata": {},
   "outputs": [
    {
     "name": "stderr",
     "output_type": "stream",
     "text": [
      "C:\\Users\\Public\\Documents\\ESTsoft\\CreatorTemp\\ipykernel_14356\\2212051763.py:1: SettingWithCopyWarning: \n",
      "A value is trying to be set on a copy of a slice from a DataFrame.\n",
      "Try using .loc[row_indexer,col_indexer] = value instead\n",
      "\n",
      "See the caveats in the documentation: https://pandas.pydata.org/pandas-docs/stable/user_guide/indexing.html#returning-a-view-versus-a-copy\n",
      "  gisa_3['point'] = gisa_3.accCode.map({'A':5,'B':15,'C':20})\n"
     ]
    }
   ],
   "source": [
    "gisa_3['point'] = gisa_3.accCode.map({'A':5,'B':15,'C':20})"
   ]
  },
  {
   "cell_type": "code",
   "execution_count": 73,
   "id": "c92f1861-30b1-4ee4-90b9-27672c1735dc",
   "metadata": {},
   "outputs": [
    {
     "data": {
      "text/html": [
       "<div>\n",
       "<style scoped>\n",
       "    .dataframe tbody tr th:only-of-type {\n",
       "        vertical-align: middle;\n",
       "    }\n",
       "\n",
       "    .dataframe tbody tr th {\n",
       "        vertical-align: top;\n",
       "    }\n",
       "\n",
       "    .dataframe thead th {\n",
       "        text-align: right;\n",
       "    }\n",
       "</style>\n",
       "<table border=\"1\" class=\"dataframe\">\n",
       "  <thead>\n",
       "    <tr style=\"text-align: right;\">\n",
       "      <th></th>\n",
       "      <th>stdNo</th>\n",
       "      <th>email</th>\n",
       "      <th>kor</th>\n",
       "      <th>eng</th>\n",
       "      <th>math</th>\n",
       "      <th>sci</th>\n",
       "      <th>hist</th>\n",
       "      <th>total</th>\n",
       "      <th>mgrCode</th>\n",
       "      <th>accCode</th>\n",
       "      <th>locCode</th>\n",
       "      <th>quiz1</th>\n",
       "      <th>point</th>\n",
       "    </tr>\n",
       "  </thead>\n",
       "  <tbody>\n",
       "    <tr>\n",
       "      <th>6</th>\n",
       "      <td>990007</td>\n",
       "      <td>kor2</td>\n",
       "      <td>33</td>\n",
       "      <td>85</td>\n",
       "      <td>98</td>\n",
       "      <td>60</td>\n",
       "      <td>66</td>\n",
       "      <td>342</td>\n",
       "      <td>A</td>\n",
       "      <td>B</td>\n",
       "      <td>A</td>\n",
       "      <td>131</td>\n",
       "      <td>15</td>\n",
       "    </tr>\n",
       "    <tr>\n",
       "      <th>9</th>\n",
       "      <td>990010</td>\n",
       "      <td>blue</td>\n",
       "      <td>55</td>\n",
       "      <td>84</td>\n",
       "      <td>50</td>\n",
       "      <td>89</td>\n",
       "      <td>37</td>\n",
       "      <td>315</td>\n",
       "      <td>A</td>\n",
       "      <td>B</td>\n",
       "      <td>A</td>\n",
       "      <td>105</td>\n",
       "      <td>15</td>\n",
       "    </tr>\n",
       "    <tr>\n",
       "      <th>10</th>\n",
       "      <td>990011</td>\n",
       "      <td>moja</td>\n",
       "      <td>43</td>\n",
       "      <td>69</td>\n",
       "      <td>68</td>\n",
       "      <td>23</td>\n",
       "      <td>92</td>\n",
       "      <td>295</td>\n",
       "      <td>B</td>\n",
       "      <td>A</td>\n",
       "      <td>C</td>\n",
       "      <td>111</td>\n",
       "      <td>5</td>\n",
       "    </tr>\n",
       "  </tbody>\n",
       "</table>\n",
       "</div>"
      ],
      "text/plain": [
       "     stdNo email  kor  eng  math  sci  hist  total mgrCode accCode locCode  \\\n",
       "6   990007  kor2   33   85    98   60    66    342       A       B       A   \n",
       "9   990010  blue   55   84    50   89    37    315       A       B       A   \n",
       "10  990011  moja   43   69    68   23    92    295       B       A       C   \n",
       "\n",
       "    quiz1  point  \n",
       "6     131     15  \n",
       "9     105     15  \n",
       "10    111      5  "
      ]
     },
     "execution_count": 73,
     "metadata": {},
     "output_type": "execute_result"
    }
   ],
   "source": [
    "gisa_3.head(3)"
   ]
  },
  {
   "cell_type": "code",
   "execution_count": 74,
   "id": "494953e5-cdfd-45da-b8ff-228e7fd9ff6a",
   "metadata": {},
   "outputs": [
    {
     "data": {
      "text/plain": [
       "99549"
      ]
     },
     "execution_count": 74,
     "metadata": {},
     "output_type": "execute_result"
    }
   ],
   "source": [
    "(gisa_3['total']+gisa_3['point']).sum()"
   ]
  },
  {
   "cell_type": "code",
   "execution_count": 77,
   "id": "3769734b-42cc-42cc-9e60-476bd7f8cb47",
   "metadata": {},
   "outputs": [
    {
     "data": {
      "text/plain": [
       "99549"
      ]
     },
     "execution_count": 77,
     "metadata": {},
     "output_type": "execute_result"
    }
   ],
   "source": [
    "gisa_3.total.sum()+gisa_3.point.sum()"
   ]
  },
  {
   "cell_type": "code",
   "execution_count": 76,
   "id": "cc659d98-387a-4810-b85f-1e4f1c48fa29",
   "metadata": {},
   "outputs": [
    {
     "data": {
      "text/plain": [
       "4165"
      ]
     },
     "execution_count": 76,
     "metadata": {},
     "output_type": "execute_result"
    }
   ],
   "source": [
    "gisa_3.point.sum()"
   ]
  },
  {
   "cell_type": "code",
   "execution_count": 78,
   "id": "55a8597f-b7fc-4b50-b0ee-2c4068ba59a9",
   "metadata": {},
   "outputs": [
    {
     "name": "stderr",
     "output_type": "stream",
     "text": [
      "C:\\Users\\Public\\Documents\\ESTsoft\\CreatorTemp\\ipykernel_14356\\1990788822.py:1: SettingWithCopyWarning: \n",
      "A value is trying to be set on a copy of a slice from a DataFrame.\n",
      "Try using .loc[row_indexer,col_indexer] = value instead\n",
      "\n",
      "See the caveats in the documentation: https://pandas.pydata.org/pandas-docs/stable/user_guide/indexing.html#returning-a-view-versus-a-copy\n",
      "  gisa_3['point2']=gisa_3.apply(lambda row : 5 if row.accCode=='A' else 15 if row.accCode=='B' else 20,axis=1)\n"
     ]
    }
   ],
   "source": [
    "gisa_3['point2']=gisa_3.apply(lambda row : 5 if row.accCode=='A' else 15 if row.accCode=='B' else 20,axis=1) "
   ]
  },
  {
   "cell_type": "code",
   "execution_count": 79,
   "id": "323c9fff-d88e-462d-a458-6d61f24b72b4",
   "metadata": {},
   "outputs": [
    {
     "data": {
      "text/html": [
       "<div>\n",
       "<style scoped>\n",
       "    .dataframe tbody tr th:only-of-type {\n",
       "        vertical-align: middle;\n",
       "    }\n",
       "\n",
       "    .dataframe tbody tr th {\n",
       "        vertical-align: top;\n",
       "    }\n",
       "\n",
       "    .dataframe thead th {\n",
       "        text-align: right;\n",
       "    }\n",
       "</style>\n",
       "<table border=\"1\" class=\"dataframe\">\n",
       "  <thead>\n",
       "    <tr style=\"text-align: right;\">\n",
       "      <th></th>\n",
       "      <th>stdNo</th>\n",
       "      <th>email</th>\n",
       "      <th>kor</th>\n",
       "      <th>eng</th>\n",
       "      <th>math</th>\n",
       "      <th>sci</th>\n",
       "      <th>hist</th>\n",
       "      <th>total</th>\n",
       "      <th>mgrCode</th>\n",
       "      <th>accCode</th>\n",
       "      <th>locCode</th>\n",
       "      <th>quiz1</th>\n",
       "      <th>point</th>\n",
       "      <th>point2</th>\n",
       "    </tr>\n",
       "  </thead>\n",
       "  <tbody>\n",
       "    <tr>\n",
       "      <th>6</th>\n",
       "      <td>990007</td>\n",
       "      <td>kor2</td>\n",
       "      <td>33</td>\n",
       "      <td>85</td>\n",
       "      <td>98</td>\n",
       "      <td>60</td>\n",
       "      <td>66</td>\n",
       "      <td>342</td>\n",
       "      <td>A</td>\n",
       "      <td>B</td>\n",
       "      <td>A</td>\n",
       "      <td>131</td>\n",
       "      <td>15</td>\n",
       "      <td>15</td>\n",
       "    </tr>\n",
       "    <tr>\n",
       "      <th>9</th>\n",
       "      <td>990010</td>\n",
       "      <td>blue</td>\n",
       "      <td>55</td>\n",
       "      <td>84</td>\n",
       "      <td>50</td>\n",
       "      <td>89</td>\n",
       "      <td>37</td>\n",
       "      <td>315</td>\n",
       "      <td>A</td>\n",
       "      <td>B</td>\n",
       "      <td>A</td>\n",
       "      <td>105</td>\n",
       "      <td>15</td>\n",
       "      <td>15</td>\n",
       "    </tr>\n",
       "    <tr>\n",
       "      <th>10</th>\n",
       "      <td>990011</td>\n",
       "      <td>moja</td>\n",
       "      <td>43</td>\n",
       "      <td>69</td>\n",
       "      <td>68</td>\n",
       "      <td>23</td>\n",
       "      <td>92</td>\n",
       "      <td>295</td>\n",
       "      <td>B</td>\n",
       "      <td>A</td>\n",
       "      <td>C</td>\n",
       "      <td>111</td>\n",
       "      <td>5</td>\n",
       "      <td>5</td>\n",
       "    </tr>\n",
       "  </tbody>\n",
       "</table>\n",
       "</div>"
      ],
      "text/plain": [
       "     stdNo email  kor  eng  math  sci  hist  total mgrCode accCode locCode  \\\n",
       "6   990007  kor2   33   85    98   60    66    342       A       B       A   \n",
       "9   990010  blue   55   84    50   89    37    315       A       B       A   \n",
       "10  990011  moja   43   69    68   23    92    295       B       A       C   \n",
       "\n",
       "    quiz1  point  point2  \n",
       "6     131     15      15  \n",
       "9     105     15      15  \n",
       "10    111      5       5  "
      ]
     },
     "execution_count": 79,
     "metadata": {},
     "output_type": "execute_result"
    }
   ],
   "source": [
    "gisa_3.head(3)"
   ]
  },
  {
   "cell_type": "code",
   "execution_count": 81,
   "id": "29b5787f-39fc-42f6-b3f7-603efcd5aae9",
   "metadata": {},
   "outputs": [],
   "source": [
    "gisa_4 = gisa[(gisa.accCode=='A') | (gisa.accCode=='B')]"
   ]
  },
  {
   "cell_type": "code",
   "execution_count": 82,
   "id": "02153fc1-89e4-40ee-bdfc-2bf5dc28d3e5",
   "metadata": {},
   "outputs": [
    {
     "name": "stderr",
     "output_type": "stream",
     "text": [
      "C:\\Users\\Public\\Documents\\ESTsoft\\CreatorTemp\\ipykernel_14356\\1790417945.py:1: SettingWithCopyWarning: \n",
      "A value is trying to be set on a copy of a slice from a DataFrame.\n",
      "Try using .loc[row_indexer,col_indexer] = value instead\n",
      "\n",
      "See the caveats in the documentation: https://pandas.pydata.org/pandas-docs/stable/user_guide/indexing.html#returning-a-view-versus-a-copy\n",
      "  gisa_4['point'] = gisa_4.locCode.map({'A':5,'B':10,'C':15})\n"
     ]
    }
   ],
   "source": [
    "gisa_4['point'] = gisa_4.locCode.map({'A':5,'B':10,'C':15})"
   ]
  },
  {
   "cell_type": "code",
   "execution_count": 84,
   "id": "bbb0d2ac-699d-41dc-8b32-7bbf13329138",
   "metadata": {},
   "outputs": [
    {
     "data": {
      "text/html": [
       "<div>\n",
       "<style scoped>\n",
       "    .dataframe tbody tr th:only-of-type {\n",
       "        vertical-align: middle;\n",
       "    }\n",
       "\n",
       "    .dataframe tbody tr th {\n",
       "        vertical-align: top;\n",
       "    }\n",
       "\n",
       "    .dataframe thead th {\n",
       "        text-align: right;\n",
       "    }\n",
       "</style>\n",
       "<table border=\"1\" class=\"dataframe\">\n",
       "  <thead>\n",
       "    <tr style=\"text-align: right;\">\n",
       "      <th></th>\n",
       "      <th>stdNo</th>\n",
       "      <th>email</th>\n",
       "      <th>kor</th>\n",
       "      <th>eng</th>\n",
       "      <th>math</th>\n",
       "      <th>sci</th>\n",
       "      <th>hist</th>\n",
       "      <th>total</th>\n",
       "      <th>mgrCode</th>\n",
       "      <th>accCode</th>\n",
       "      <th>locCode</th>\n",
       "      <th>quiz1</th>\n",
       "      <th>point</th>\n",
       "    </tr>\n",
       "  </thead>\n",
       "  <tbody>\n",
       "    <tr>\n",
       "      <th>0</th>\n",
       "      <td>990001</td>\n",
       "      <td>addx</td>\n",
       "      <td>17</td>\n",
       "      <td>29</td>\n",
       "      <td>16</td>\n",
       "      <td>49</td>\n",
       "      <td>43</td>\n",
       "      <td>154</td>\n",
       "      <td>C</td>\n",
       "      <td>A</td>\n",
       "      <td>C</td>\n",
       "      <td>33</td>\n",
       "      <td>15</td>\n",
       "    </tr>\n",
       "    <tr>\n",
       "      <th>1</th>\n",
       "      <td>990002</td>\n",
       "      <td>stch</td>\n",
       "      <td>30</td>\n",
       "      <td>9</td>\n",
       "      <td>48</td>\n",
       "      <td>25</td>\n",
       "      <td>81</td>\n",
       "      <td>193</td>\n",
       "      <td>C</td>\n",
       "      <td>A</td>\n",
       "      <td>A</td>\n",
       "      <td>78</td>\n",
       "      <td>5</td>\n",
       "    </tr>\n",
       "    <tr>\n",
       "      <th>4</th>\n",
       "      <td>990005</td>\n",
       "      <td>oran</td>\n",
       "      <td>33</td>\n",
       "      <td>38</td>\n",
       "      <td>59</td>\n",
       "      <td>58</td>\n",
       "      <td>28</td>\n",
       "      <td>216</td>\n",
       "      <td>C</td>\n",
       "      <td>B</td>\n",
       "      <td>A</td>\n",
       "      <td>92</td>\n",
       "      <td>5</td>\n",
       "    </tr>\n",
       "    <tr>\n",
       "      <th>5</th>\n",
       "      <td>990006</td>\n",
       "      <td>sj24</td>\n",
       "      <td>27</td>\n",
       "      <td>65</td>\n",
       "      <td>54</td>\n",
       "      <td>77</td>\n",
       "      <td>33</td>\n",
       "      <td>256</td>\n",
       "      <td>B</td>\n",
       "      <td>A</td>\n",
       "      <td>A</td>\n",
       "      <td>81</td>\n",
       "      <td>5</td>\n",
       "    </tr>\n",
       "    <tr>\n",
       "      <th>6</th>\n",
       "      <td>990007</td>\n",
       "      <td>kor2</td>\n",
       "      <td>33</td>\n",
       "      <td>85</td>\n",
       "      <td>98</td>\n",
       "      <td>60</td>\n",
       "      <td>66</td>\n",
       "      <td>342</td>\n",
       "      <td>A</td>\n",
       "      <td>B</td>\n",
       "      <td>A</td>\n",
       "      <td>131</td>\n",
       "      <td>5</td>\n",
       "    </tr>\n",
       "    <tr>\n",
       "      <th>7</th>\n",
       "      <td>990008</td>\n",
       "      <td>vsky</td>\n",
       "      <td>41</td>\n",
       "      <td>5</td>\n",
       "      <td>99</td>\n",
       "      <td>14</td>\n",
       "      <td>67</td>\n",
       "      <td>226</td>\n",
       "      <td>C</td>\n",
       "      <td>A</td>\n",
       "      <td>C</td>\n",
       "      <td>140</td>\n",
       "      <td>15</td>\n",
       "    </tr>\n",
       "    <tr>\n",
       "      <th>9</th>\n",
       "      <td>990010</td>\n",
       "      <td>blue</td>\n",
       "      <td>55</td>\n",
       "      <td>84</td>\n",
       "      <td>50</td>\n",
       "      <td>89</td>\n",
       "      <td>37</td>\n",
       "      <td>315</td>\n",
       "      <td>A</td>\n",
       "      <td>B</td>\n",
       "      <td>A</td>\n",
       "      <td>105</td>\n",
       "      <td>5</td>\n",
       "    </tr>\n",
       "    <tr>\n",
       "      <th>10</th>\n",
       "      <td>990011</td>\n",
       "      <td>moja</td>\n",
       "      <td>43</td>\n",
       "      <td>69</td>\n",
       "      <td>68</td>\n",
       "      <td>23</td>\n",
       "      <td>92</td>\n",
       "      <td>295</td>\n",
       "      <td>B</td>\n",
       "      <td>A</td>\n",
       "      <td>C</td>\n",
       "      <td>111</td>\n",
       "      <td>15</td>\n",
       "    </tr>\n",
       "    <tr>\n",
       "      <th>12</th>\n",
       "      <td>990013</td>\n",
       "      <td>lore</td>\n",
       "      <td>77</td>\n",
       "      <td>85</td>\n",
       "      <td>36</td>\n",
       "      <td>95</td>\n",
       "      <td>46</td>\n",
       "      <td>339</td>\n",
       "      <td>B</td>\n",
       "      <td>A</td>\n",
       "      <td>C</td>\n",
       "      <td>113</td>\n",
       "      <td>15</td>\n",
       "    </tr>\n",
       "    <tr>\n",
       "      <th>14</th>\n",
       "      <td>990015</td>\n",
       "      <td>sire</td>\n",
       "      <td>66</td>\n",
       "      <td>45</td>\n",
       "      <td>86</td>\n",
       "      <td>93</td>\n",
       "      <td>48</td>\n",
       "      <td>338</td>\n",
       "      <td>C</td>\n",
       "      <td>B</td>\n",
       "      <td>A</td>\n",
       "      <td>152</td>\n",
       "      <td>5</td>\n",
       "    </tr>\n",
       "  </tbody>\n",
       "</table>\n",
       "</div>"
      ],
      "text/plain": [
       "     stdNo email  kor  eng  math  sci  hist  total mgrCode accCode locCode  \\\n",
       "0   990001  addx   17   29    16   49    43    154       C       A       C   \n",
       "1   990002  stch   30    9    48   25    81    193       C       A       A   \n",
       "4   990005  oran   33   38    59   58    28    216       C       B       A   \n",
       "5   990006  sj24   27   65    54   77    33    256       B       A       A   \n",
       "6   990007  kor2   33   85    98   60    66    342       A       B       A   \n",
       "7   990008  vsky   41    5    99   14    67    226       C       A       C   \n",
       "9   990010  blue   55   84    50   89    37    315       A       B       A   \n",
       "10  990011  moja   43   69    68   23    92    295       B       A       C   \n",
       "12  990013  lore   77   85    36   95    46    339       B       A       C   \n",
       "14  990015  sire   66   45    86   93    48    338       C       B       A   \n",
       "\n",
       "    quiz1  point  \n",
       "0      33     15  \n",
       "1      78      5  \n",
       "4      92      5  \n",
       "5      81      5  \n",
       "6     131      5  \n",
       "7     140     15  \n",
       "9     105      5  \n",
       "10    111     15  \n",
       "12    113     15  \n",
       "14    152      5  "
      ]
     },
     "execution_count": 84,
     "metadata": {},
     "output_type": "execute_result"
    }
   ],
   "source": [
    "gisa_4.head(10)"
   ]
  },
  {
   "cell_type": "code",
   "execution_count": 87,
   "id": "38b499cc-1f79-464b-b9f2-409a28134d25",
   "metadata": {},
   "outputs": [
    {
     "data": {
      "text/plain": [
       "397"
      ]
     },
     "execution_count": 87,
     "metadata": {},
     "output_type": "execute_result"
    }
   ],
   "source": [
    "gisa_4[(gisa_4.kor+gisa_4.point)>=50].stdNo.count()"
   ]
  },
  {
   "cell_type": "code",
   "execution_count": null,
   "id": "12a837d4-4bf2-4123-826d-a3c87358117d",
   "metadata": {},
   "outputs": [],
   "source": []
  }
 ],
 "metadata": {
  "kernelspec": {
   "display_name": "Python 3 (ipykernel)",
   "language": "python",
   "name": "python3"
  },
  "language_info": {
   "codemirror_mode": {
    "name": "ipython",
    "version": 3
   },
   "file_extension": ".py",
   "mimetype": "text/x-python",
   "name": "python",
   "nbconvert_exporter": "python",
   "pygments_lexer": "ipython3",
   "version": "3.11.7"
  }
 },
 "nbformat": 4,
 "nbformat_minor": 5
}
